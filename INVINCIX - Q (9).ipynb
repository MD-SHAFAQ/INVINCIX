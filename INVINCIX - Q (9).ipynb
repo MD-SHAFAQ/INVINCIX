{
 "cells": [
  {
   "cell_type": "code",
   "execution_count": 3,
   "id": "fe86dd7e",
   "metadata": {},
   "outputs": [
    {
     "name": "stdout",
     "output_type": "stream",
     "text": [
      "5\n",
      "Offer\n",
      "Urgent\n",
      "Minister\n",
      "Offer\n",
      "Urgent\n",
      "\n",
      "Offer\n",
      "Urgent\n",
      "Minister\n",
      "D-Offer\n",
      "D-Urgent\n"
     ]
    }
   ],
   "source": [
    "n=int(input())\n",
    "\n",
    "# \"lst\" list will append all the unique SMSs.\n",
    "lst=[]\n",
    "\n",
    "#\"dlt\" list appends all the repeated SMSs which should be deleted.\n",
    "dlt=[]\n",
    "\n",
    "for i in range(n):\n",
    "    x=input()\n",
    "    if x not in lst:\n",
    "        lst.append(x)\n",
    "    else:\n",
    "        dlt.append(x)\n",
    "print()        \n",
    "        \n",
    "for j in lst:\n",
    "    print(j)\n",
    "for k in dlt:\n",
    "    print(f\"D-{k}\")"
   ]
  },
  {
   "cell_type": "code",
   "execution_count": null,
   "id": "ad4ac0b0",
   "metadata": {},
   "outputs": [],
   "source": []
  }
 ],
 "metadata": {
  "kernelspec": {
   "display_name": "Python 3",
   "language": "python",
   "name": "python3"
  },
  "language_info": {
   "codemirror_mode": {
    "name": "ipython",
    "version": 3
   },
   "file_extension": ".py",
   "mimetype": "text/x-python",
   "name": "python",
   "nbconvert_exporter": "python",
   "pygments_lexer": "ipython3",
   "version": "3.8.8"
  }
 },
 "nbformat": 4,
 "nbformat_minor": 5
}
